{
 "cells": [
  {
   "cell_type": "markdown",
   "id": "ce3cacc7",
   "metadata": {},
   "source": [
    "# Import Libraries"
   ]
  },
  {
   "cell_type": "code",
   "execution_count": 1,
   "id": "79bb2ac0",
   "metadata": {},
   "outputs": [],
   "source": [
    "#import the all required libraries\n",
    "import pandas as pd\n",
    "import numpy as np\n",
    "import matplotlib.pyplot as plt\n",
    "import seaborn as sns\n",
    "from sklearn.feature_selection import SelectKBest,f_classif\n",
    "from sklearn.model_selection import train_test_split,KFold,GridSearchCV\n",
    "from sklearn.tree import DecisionTreeClassifier\n",
    "from sklearn.neighbors import KNeighborsClassifier\n",
    "from sklearn.preprocessing import minmax_scale\n",
    "from sklearn.ensemble import RandomForestClassifier\n",
    "from sklearn.dummy import DummyClassifier\n",
    "from sklearn.metrics import (roc_curve,confusion_matrix,accuracy_score,plot_confusion_matrix,ConfusionMatrixDisplay,\n",
    "                             balanced_accuracy_score,precision_score,cohen_kappa_score,\n",
    "                             recall_score,f1_score,auc)"
   ]
  },
  {
   "cell_type": "markdown",
   "id": "2dcb7cbb",
   "metadata": {},
   "source": [
    "- Our data set name is 'wisc_bc_data.csv' which includes 32 columns(features) and our main target is to predict the cancer either it is benign or malignant"
   ]
  },
  {
   "cell_type": "code",
   "execution_count": 2,
   "id": "402d7462",
   "metadata": {},
   "outputs": [
    {
     "data": {
      "text/html": [
       "<div>\n",
       "<style scoped>\n",
       "    .dataframe tbody tr th:only-of-type {\n",
       "        vertical-align: middle;\n",
       "    }\n",
       "\n",
       "    .dataframe tbody tr th {\n",
       "        vertical-align: top;\n",
       "    }\n",
       "\n",
       "    .dataframe thead th {\n",
       "        text-align: right;\n",
       "    }\n",
       "</style>\n",
       "<table border=\"1\" class=\"dataframe\">\n",
       "  <thead>\n",
       "    <tr style=\"text-align: right;\">\n",
       "      <th></th>\n",
       "      <th>id</th>\n",
       "      <th>diagnosis</th>\n",
       "      <th>radius_mean</th>\n",
       "      <th>texture_mean</th>\n",
       "      <th>perimeter_mean</th>\n",
       "      <th>area_mean</th>\n",
       "      <th>smoothness_mean</th>\n",
       "      <th>compactness_mean</th>\n",
       "      <th>concavity_mean</th>\n",
       "      <th>concave points_mean</th>\n",
       "      <th>...</th>\n",
       "      <th>radius_worst</th>\n",
       "      <th>texture_worst</th>\n",
       "      <th>perimeter_worst</th>\n",
       "      <th>area_worst</th>\n",
       "      <th>smoothness_worst</th>\n",
       "      <th>compactness_worst</th>\n",
       "      <th>concavity_worst</th>\n",
       "      <th>concave points_worst</th>\n",
       "      <th>symmetry_worst</th>\n",
       "      <th>fractal_dimension_worst</th>\n",
       "    </tr>\n",
       "  </thead>\n",
       "  <tbody>\n",
       "    <tr>\n",
       "      <th>0</th>\n",
       "      <td>842302</td>\n",
       "      <td>M</td>\n",
       "      <td>17.99</td>\n",
       "      <td>10.38</td>\n",
       "      <td>122.80</td>\n",
       "      <td>1001.0</td>\n",
       "      <td>0.11840</td>\n",
       "      <td>0.27760</td>\n",
       "      <td>0.3001</td>\n",
       "      <td>0.14710</td>\n",
       "      <td>...</td>\n",
       "      <td>25.38</td>\n",
       "      <td>17.33</td>\n",
       "      <td>184.60</td>\n",
       "      <td>2019.0</td>\n",
       "      <td>0.1622</td>\n",
       "      <td>0.6656</td>\n",
       "      <td>0.7119</td>\n",
       "      <td>0.2654</td>\n",
       "      <td>0.4601</td>\n",
       "      <td>0.11890</td>\n",
       "    </tr>\n",
       "    <tr>\n",
       "      <th>1</th>\n",
       "      <td>842517</td>\n",
       "      <td>M</td>\n",
       "      <td>20.57</td>\n",
       "      <td>17.77</td>\n",
       "      <td>132.90</td>\n",
       "      <td>1326.0</td>\n",
       "      <td>0.08474</td>\n",
       "      <td>0.07864</td>\n",
       "      <td>0.0869</td>\n",
       "      <td>0.07017</td>\n",
       "      <td>...</td>\n",
       "      <td>24.99</td>\n",
       "      <td>23.41</td>\n",
       "      <td>158.80</td>\n",
       "      <td>1956.0</td>\n",
       "      <td>0.1238</td>\n",
       "      <td>0.1866</td>\n",
       "      <td>0.2416</td>\n",
       "      <td>0.1860</td>\n",
       "      <td>0.2750</td>\n",
       "      <td>0.08902</td>\n",
       "    </tr>\n",
       "    <tr>\n",
       "      <th>2</th>\n",
       "      <td>84300903</td>\n",
       "      <td>M</td>\n",
       "      <td>19.69</td>\n",
       "      <td>21.25</td>\n",
       "      <td>130.00</td>\n",
       "      <td>1203.0</td>\n",
       "      <td>0.10960</td>\n",
       "      <td>0.15990</td>\n",
       "      <td>0.1974</td>\n",
       "      <td>0.12790</td>\n",
       "      <td>...</td>\n",
       "      <td>23.57</td>\n",
       "      <td>25.53</td>\n",
       "      <td>152.50</td>\n",
       "      <td>1709.0</td>\n",
       "      <td>0.1444</td>\n",
       "      <td>0.4245</td>\n",
       "      <td>0.4504</td>\n",
       "      <td>0.2430</td>\n",
       "      <td>0.3613</td>\n",
       "      <td>0.08758</td>\n",
       "    </tr>\n",
       "    <tr>\n",
       "      <th>3</th>\n",
       "      <td>84348301</td>\n",
       "      <td>M</td>\n",
       "      <td>11.42</td>\n",
       "      <td>20.38</td>\n",
       "      <td>77.58</td>\n",
       "      <td>386.1</td>\n",
       "      <td>0.14250</td>\n",
       "      <td>0.28390</td>\n",
       "      <td>0.2414</td>\n",
       "      <td>0.10520</td>\n",
       "      <td>...</td>\n",
       "      <td>14.91</td>\n",
       "      <td>26.50</td>\n",
       "      <td>98.87</td>\n",
       "      <td>567.7</td>\n",
       "      <td>0.2098</td>\n",
       "      <td>0.8663</td>\n",
       "      <td>0.6869</td>\n",
       "      <td>0.2575</td>\n",
       "      <td>0.6638</td>\n",
       "      <td>0.17300</td>\n",
       "    </tr>\n",
       "    <tr>\n",
       "      <th>4</th>\n",
       "      <td>84358402</td>\n",
       "      <td>M</td>\n",
       "      <td>20.29</td>\n",
       "      <td>14.34</td>\n",
       "      <td>135.10</td>\n",
       "      <td>1297.0</td>\n",
       "      <td>0.10030</td>\n",
       "      <td>0.13280</td>\n",
       "      <td>0.1980</td>\n",
       "      <td>0.10430</td>\n",
       "      <td>...</td>\n",
       "      <td>22.54</td>\n",
       "      <td>16.67</td>\n",
       "      <td>152.20</td>\n",
       "      <td>1575.0</td>\n",
       "      <td>0.1374</td>\n",
       "      <td>0.2050</td>\n",
       "      <td>0.4000</td>\n",
       "      <td>0.1625</td>\n",
       "      <td>0.2364</td>\n",
       "      <td>0.07678</td>\n",
       "    </tr>\n",
       "  </tbody>\n",
       "</table>\n",
       "<p>5 rows × 32 columns</p>\n",
       "</div>"
      ],
      "text/plain": [
       "         id diagnosis  radius_mean  texture_mean  perimeter_mean  area_mean  \\\n",
       "0    842302         M        17.99         10.38          122.80     1001.0   \n",
       "1    842517         M        20.57         17.77          132.90     1326.0   \n",
       "2  84300903         M        19.69         21.25          130.00     1203.0   \n",
       "3  84348301         M        11.42         20.38           77.58      386.1   \n",
       "4  84358402         M        20.29         14.34          135.10     1297.0   \n",
       "\n",
       "   smoothness_mean  compactness_mean  concavity_mean  concave points_mean  \\\n",
       "0          0.11840           0.27760          0.3001              0.14710   \n",
       "1          0.08474           0.07864          0.0869              0.07017   \n",
       "2          0.10960           0.15990          0.1974              0.12790   \n",
       "3          0.14250           0.28390          0.2414              0.10520   \n",
       "4          0.10030           0.13280          0.1980              0.10430   \n",
       "\n",
       "   ...  radius_worst  texture_worst  perimeter_worst  area_worst  \\\n",
       "0  ...         25.38          17.33           184.60      2019.0   \n",
       "1  ...         24.99          23.41           158.80      1956.0   \n",
       "2  ...         23.57          25.53           152.50      1709.0   \n",
       "3  ...         14.91          26.50            98.87       567.7   \n",
       "4  ...         22.54          16.67           152.20      1575.0   \n",
       "\n",
       "   smoothness_worst  compactness_worst  concavity_worst  concave points_worst  \\\n",
       "0            0.1622             0.6656           0.7119                0.2654   \n",
       "1            0.1238             0.1866           0.2416                0.1860   \n",
       "2            0.1444             0.4245           0.4504                0.2430   \n",
       "3            0.2098             0.8663           0.6869                0.2575   \n",
       "4            0.1374             0.2050           0.4000                0.1625   \n",
       "\n",
       "   symmetry_worst  fractal_dimension_worst  \n",
       "0          0.4601                  0.11890  \n",
       "1          0.2750                  0.08902  \n",
       "2          0.3613                  0.08758  \n",
       "3          0.6638                  0.17300  \n",
       "4          0.2364                  0.07678  \n",
       "\n",
       "[5 rows x 32 columns]"
      ]
     },
     "execution_count": 2,
     "metadata": {},
     "output_type": "execute_result"
    }
   ],
   "source": [
    "#read the data and get first 5 entries\n",
    "wisc=pd.read_csv('c:/Users/jadha/Data/wisc_bc_data.csv')\n",
    "wisc.head()"
   ]
  },
  {
   "cell_type": "markdown",
   "id": "4bde4b42",
   "metadata": {},
   "source": [
    "# Exploratory Data Analysis"
   ]
  },
  {
   "cell_type": "code",
   "execution_count": 3,
   "id": "6b547664",
   "metadata": {},
   "outputs": [
    {
     "data": {
      "text/plain": [
       "id                         0\n",
       "diagnosis                  0\n",
       "radius_mean                0\n",
       "texture_mean               0\n",
       "perimeter_mean             0\n",
       "area_mean                  0\n",
       "smoothness_mean            0\n",
       "compactness_mean           0\n",
       "concavity_mean             0\n",
       "concave points_mean        0\n",
       "symmetry_mean              0\n",
       "fractal_dimension_mean     0\n",
       "radius_se                  0\n",
       "texture_se                 0\n",
       "perimeter_se               0\n",
       "area_se                    0\n",
       "smoothness_se              0\n",
       "compactness_se             0\n",
       "concavity_se               0\n",
       "concave points_se          0\n",
       "symmetry_se                0\n",
       "fractal_dimension_se       0\n",
       "radius_worst               0\n",
       "texture_worst              0\n",
       "perimeter_worst            0\n",
       "area_worst                 0\n",
       "smoothness_worst           0\n",
       "compactness_worst          0\n",
       "concavity_worst            0\n",
       "concave points_worst       0\n",
       "symmetry_worst             0\n",
       "fractal_dimension_worst    0\n",
       "dtype: int64"
      ]
     },
     "execution_count": 3,
     "metadata": {},
     "output_type": "execute_result"
    }
   ],
   "source": [
    "wisc.isna().sum()"
   ]
  },
  {
   "cell_type": "code",
   "execution_count": 4,
   "id": "9cb329eb",
   "metadata": {},
   "outputs": [
    {
     "name": "stdout",
     "output_type": "stream",
     "text": [
      "<class 'pandas.core.frame.DataFrame'>\n",
      "RangeIndex: 569 entries, 0 to 568\n",
      "Data columns (total 32 columns):\n",
      " #   Column                   Non-Null Count  Dtype  \n",
      "---  ------                   --------------  -----  \n",
      " 0   id                       569 non-null    int64  \n",
      " 1   diagnosis                569 non-null    object \n",
      " 2   radius_mean              569 non-null    float64\n",
      " 3   texture_mean             569 non-null    float64\n",
      " 4   perimeter_mean           569 non-null    float64\n",
      " 5   area_mean                569 non-null    float64\n",
      " 6   smoothness_mean          569 non-null    float64\n",
      " 7   compactness_mean         569 non-null    float64\n",
      " 8   concavity_mean           569 non-null    float64\n",
      " 9   concave points_mean      569 non-null    float64\n",
      " 10  symmetry_mean            569 non-null    float64\n",
      " 11  fractal_dimension_mean   569 non-null    float64\n",
      " 12  radius_se                569 non-null    float64\n",
      " 13  texture_se               569 non-null    float64\n",
      " 14  perimeter_se             569 non-null    float64\n",
      " 15  area_se                  569 non-null    float64\n",
      " 16  smoothness_se            569 non-null    float64\n",
      " 17  compactness_se           569 non-null    float64\n",
      " 18  concavity_se             569 non-null    float64\n",
      " 19  concave points_se        569 non-null    float64\n",
      " 20  symmetry_se              569 non-null    float64\n",
      " 21  fractal_dimension_se     569 non-null    float64\n",
      " 22  radius_worst             569 non-null    float64\n",
      " 23  texture_worst            569 non-null    float64\n",
      " 24  perimeter_worst          569 non-null    float64\n",
      " 25  area_worst               569 non-null    float64\n",
      " 26  smoothness_worst         569 non-null    float64\n",
      " 27  compactness_worst        569 non-null    float64\n",
      " 28  concavity_worst          569 non-null    float64\n",
      " 29  concave points_worst     569 non-null    float64\n",
      " 30  symmetry_worst           569 non-null    float64\n",
      " 31  fractal_dimension_worst  569 non-null    float64\n",
      "dtypes: float64(30), int64(1), object(1)\n",
      "memory usage: 142.4+ KB\n"
     ]
    }
   ],
   "source": [
    "wisc.info()"
   ]
  },
  {
   "cell_type": "code",
   "execution_count": 5,
   "id": "df1759d8",
   "metadata": {},
   "outputs": [
    {
     "data": {
      "text/plain": [
       "B    357\n",
       "M    212\n",
       "Name: diagnosis, dtype: int64"
      ]
     },
     "execution_count": 5,
     "metadata": {},
     "output_type": "execute_result"
    }
   ],
   "source": [
    "#check the data is balanced or inbalanced\n",
    "cancers=wisc['diagnosis'].value_counts()\n",
    "cancers"
   ]
  },
  {
   "cell_type": "markdown",
   "id": "4b3aac64",
   "metadata": {},
   "source": [
    "## Data understanding"
   ]
  },
  {
   "cell_type": "code",
   "execution_count": 6,
   "id": "295e0175",
   "metadata": {},
   "outputs": [
    {
     "data": {
      "image/png": "[encoded data removed]",
      "text/plain": [
       "<Figure size 432x288 with 1 Axes>"
      ]
     },
     "metadata": {
      "needs_background": "light"
     },
     "output_type": "display_data"
    }
   ],
   "source": [
    "#bar plotwhich show count of melignant and benin cancer\n",
    "plt.bar(x=cancers.index,height=cancers.values)\n",
    "for i in range (2):\n",
    "    plt.text(i,cancers[i]/2,cancers[i],c='green',size=20)"
   ]
  },
  {
   "cell_type": "code",
   "execution_count": 7,
   "id": "9c8c0681",
   "metadata": {},
   "outputs": [
    {
     "data": {
      "image/png": "[encoded data removed]",
      "text/plain": [
       "<Figure size 432x288 with 1 Axes>"
      ]
     },
     "metadata": {},
     "output_type": "display_data"
    }
   ],
   "source": [
    "c=['r','g',]\n",
    "plt.pie(cancers.values,labels=cancers.index,colors=c,radius=1.5)\n",
    "plt.pie(cancers.values,labels=cancers.values,colors=['white','white',],radius=0.7)\n",
    "plt.show()"
   ]
  },
  {
   "cell_type": "markdown",
   "id": "41e7f882",
   "metadata": {},
   "source": [
    "- Above graph will show that the data is inbalnced"
   ]
  },
  {
   "cell_type": "code",
   "execution_count": 8,
   "id": "ae408993",
   "metadata": {},
   "outputs": [
    {
     "data": {
      "image/png": "[encoded data removed]",
      "text/plain": [
       "<Figure size 432x288 with 1 Axes>"
      ]
     },
     "metadata": {
      "needs_background": "light"
     },
     "output_type": "display_data"
    }
   ],
   "source": [
    "sns.scatterplot(x='radius_mean',y='concavity_mean',hue='diagnosis',data=wisc);"
   ]
  },
  {
   "cell_type": "code",
   "execution_count": 9,
   "id": "770415e4",
   "metadata": {},
   "outputs": [
    {
     "data": {
      "image/png": "[encoded data removed]",
      "text/plain": [
       "<Figure size 360x360 with 1 Axes>"
      ]
     },
     "metadata": {
      "needs_background": "light"
     },
     "output_type": "display_data"
    }
   ],
   "source": [
    "sns.catplot(x='diagnosis',y='radius_mean',data=wisc,kind='box');"
   ]
  },
  {
   "cell_type": "code",
   "execution_count": 10,
   "id": "f6f22012",
   "metadata": {},
   "outputs": [
    {
     "data": {
      "image/png": "[encoded data removed]",
      "text/plain": [
       "<Figure size 775.5x360 with 2 Axes>"
      ]
     },
     "metadata": {
      "needs_background": "light"
     },
     "output_type": "display_data"
    }
   ],
   "source": [
    "sns.relplot(x='radius_mean',y='concavity_mean',data=wisc,col='diagnosis',hue='diagnosis');"
   ]
  },
  {
   "cell_type": "markdown",
   "id": "196f4444",
   "metadata": {},
   "source": [
    "# Outliyers Handaling"
   ]
  },
  {
   "cell_type": "markdown",
   "id": "fb986bdf",
   "metadata": {},
   "source": [
    "- Outlier is an extremely high or extremely low value in our data.\n",
    "\n",
    "- Lets use box plot for outlier visualization.\n",
    "\n",
    "- horizontal line on the bottom side of box plot represent the 'min' value of dataset and Horizontal line on top side of box plot represent the 'max' value of dataset. Any value which is outside this range is outlier and represented by 'o'"
   ]
  },
  {
   "cell_type": "code",
   "execution_count": 11,
   "id": "4a8cddfd",
   "metadata": {},
   "outputs": [
    {
     "data": {
      "image/png": "[encoded data removed]",
      "text/plain": [
       "<Figure size 432x288 with 1 Axes>"
      ]
     },
     "metadata": {
      "needs_background": "light"
     },
     "output_type": "display_data"
    }
   ],
   "source": [
    "wisc.plot(y='radius_mean',kind='box');"
   ]
  },
  {
   "cell_type": "code",
   "execution_count": 12,
   "id": "36854f3e",
   "metadata": {},
   "outputs": [],
   "source": [
    "# finding lower and upper limit of boxplot\n",
    "dfr = wisc.radius_mean\n",
    "dfr_Q1 = wisc.radius_mean.quantile(0.25)\n",
    "dfr_Q3 = wisc.radius_mean.quantile(0.75)\n",
    "from scipy.stats import iqr\n",
    "dfr_IQR=iqr(wisc['radius_mean'])\n",
    "dfr_low = dfr_Q1 - (1.5 * dfr_IQR)\n",
    "dfr_top = dfr_Q3 + (1.5 * dfr_IQR)"
   ]
  },
  {
   "cell_type": "code",
   "execution_count": 13,
   "id": "663b4978",
   "metadata": {},
   "outputs": [
    {
     "data": {
      "text/plain": [
       "82     25.22\n",
       "108    22.27\n",
       "122    24.25\n",
       "164    23.27\n",
       "180    27.22\n",
       "202    23.29\n",
       "212    28.11\n",
       "236    23.21\n",
       "339    23.51\n",
       "352    25.73\n",
       "369    22.01\n",
       "461    27.42\n",
       "503    23.09\n",
       "521    24.63\n",
       "Name: radius_mean, dtype: float64"
      ]
     },
     "execution_count": 13,
     "metadata": {},
     "output_type": "execute_result"
    }
   ],
   "source": [
    "# finding outliers\n",
    "dfr_outliers = dfr[(dfr < dfr_low) | (dfr > dfr_top)]\n",
    "dfr_outliers"
   ]
  },
  {
   "cell_type": "code",
   "execution_count": 14,
   "id": "cf91618e",
   "metadata": {},
   "outputs": [
    {
     "data": {
      "image/png": "[encoded data removed]",
      "text/plain": [
       "<Figure size 432x288 with 1 Axes>"
      ]
     },
     "metadata": {
      "needs_background": "light"
     },
     "output_type": "display_data"
    }
   ],
   "source": [
    "wisc.plot(y='concavity_mean',kind='box');"
   ]
  },
  {
   "cell_type": "code",
   "execution_count": 15,
   "id": "c6bc1fff",
   "metadata": {},
   "outputs": [],
   "source": [
    "#finding lower and upper limit of boxplot\n",
    "dfc = wisc.concavity_mean\n",
    "dfc_Q1 = wisc.concavity_mean.quantile(0.25)\n",
    "dfc_Q3 = wisc.concavity_mean.quantile(0.75)\n",
    "from scipy.stats import iqr\n",
    "dfc_IQR=iqr(wisc['concavity_mean'])\n",
    "dfc_low = dfc_Q1 - (1.5 * dfc_IQR)\n",
    "dfc_top = dfc_Q3 + (1.5 * dfc_IQR)"
   ]
  },
  {
   "cell_type": "code",
   "execution_count": 16,
   "id": "63c34136",
   "metadata": {},
   "outputs": [
    {
     "data": {
      "text/plain": [
       "0      0.3001\n",
       "68     0.3130\n",
       "78     0.3754\n",
       "82     0.3339\n",
       "108    0.4264\n",
       "112    0.3003\n",
       "122    0.4268\n",
       "152    0.4108\n",
       "180    0.2871\n",
       "202    0.3523\n",
       "212    0.3201\n",
       "258    0.3176\n",
       "351    0.2914\n",
       "352    0.3368\n",
       "400    0.3189\n",
       "461    0.3635\n",
       "563    0.3174\n",
       "567    0.3514\n",
       "Name: concavity_mean, dtype: float64"
      ]
     },
     "execution_count": 16,
     "metadata": {},
     "output_type": "execute_result"
    }
   ],
   "source": [
    "# finding outliers\n",
    "dfc_outliers = dfc[(dfr < dfc_low) | (dfc > dfc_top)]\n",
    "dfc_outliers"
   ]
  },
  {
   "cell_type": "markdown",
   "id": "f03ca665",
   "metadata": {},
   "source": [
    "- 82,108,122,180,202,212,352,461 this are the comman outliyers bettet to remove it"
   ]
  },
  {
   "cell_type": "code",
   "execution_count": 17,
   "id": "60233e82",
   "metadata": {},
   "outputs": [],
   "source": [
    "wisc=wisc.drop([82,108,122,180,202,212,352,461])"
   ]
  },
  {
   "cell_type": "code",
   "execution_count": 18,
   "id": "ede7b3f3",
   "metadata": {},
   "outputs": [
    {
     "data": {
      "text/plain": [
       "(561, 32)"
      ]
     },
     "execution_count": 18,
     "metadata": {},
     "output_type": "execute_result"
    }
   ],
   "source": [
    "wisc.shape"
   ]
  },
  {
   "cell_type": "markdown",
   "id": "ec8a51eb",
   "metadata": {},
   "source": [
    "# Feature selections"
   ]
  },
  {
   "cell_type": "code",
   "execution_count": 21,
   "id": "586cd089",
   "metadata": {},
   "outputs": [
    {
     "data": {
      "text/plain": [
       "Index(['id', 'diagnosis', 'radius_mean', 'texture_mean', 'perimeter_mean',\n",
       "       'area_mean', 'smoothness_mean', 'compactness_mean', 'concavity_mean',\n",
       "       'concave points_mean', 'symmetry_mean', 'fractal_dimension_mean',\n",
       "       'radius_se', 'texture_se', 'perimeter_se', 'area_se', 'smoothness_se',\n",
       "       'compactness_se', 'concavity_se', 'concave points_se', 'symmetry_se',\n",
       "       'fractal_dimension_se', 'radius_worst', 'texture_worst',\n",
       "       'perimeter_worst', 'area_worst', 'smoothness_worst',\n",
       "       'compactness_worst', 'concavity_worst', 'concave points_worst',\n",
       "       'symmetry_worst', 'fractal_dimension_worst'],\n",
       "      dtype='object')"
      ]
     },
     "execution_count": 21,
     "metadata": {},
     "output_type": "execute_result"
    }
   ],
   "source": [
    "#geting the name of all columns\n",
    "wisc.columns"
   ]
  },
  {
   "cell_type": "code",
   "execution_count": 22,
   "id": "c40374c1",
   "metadata": {},
   "outputs": [],
   "source": [
    "x=wisc.iloc[:,2:12]\n",
    "y=wisc['diagnosis']"
   ]
  },
  {
   "cell_type": "code",
   "execution_count": 23,
   "id": "56828102",
   "metadata": {},
   "outputs": [
    {
     "data": {
      "text/plain": [
       "array([ True, False,  True,  True, False,  True,  True,  True, False,\n",
       "       False])"
      ]
     },
     "execution_count": 23,
     "metadata": {},
     "output_type": "execute_result"
    }
   ],
   "source": [
    "#finding the best parameters\n",
    "best=SelectKBest(score_func=f_classif,k=6)\n",
    "best.fit(x,y)\n",
    "best.get_support()"
   ]
  },
  {
   "cell_type": "code",
   "execution_count": 24,
   "id": "8792dd37",
   "metadata": {},
   "outputs": [
    {
     "data": {
      "text/plain": [
       "Index(['radius_mean', 'perimeter_mean', 'area_mean', 'compactness_mean',\n",
       "       'concavity_mean', 'concave points_mean'],\n",
       "      dtype='object')"
      ]
     },
     "execution_count": 24,
     "metadata": {},
     "output_type": "execute_result"
    }
   ],
   "source": [
    "x.columns[best.get_support()]"
   ]
  },
  {
   "cell_type": "markdown",
   "id": "ee5d6735",
   "metadata": {},
   "source": [
    "as we know that perimeter and area both are the function of radius i,e if radius increges then also area as well as perimeter also increges to avoide this problem i am using only radius as output feature"
   ]
  },
  {
   "cell_type": "code",
   "execution_count": 25,
   "id": "ecf72dee",
   "metadata": {},
   "outputs": [],
   "source": [
    "#preparing x&y\n",
    "x=wisc[['radius_mean','concave points_mean','compactness_mean']]\n",
    "y=wisc['diagnosis']"
   ]
  },
  {
   "cell_type": "code",
   "execution_count": 26,
   "id": "ddaa003c",
   "metadata": {},
   "outputs": [
    {
     "data": {
      "text/html": [
       "<div>\n",
       "<style scoped>\n",
       "    .dataframe tbody tr th:only-of-type {\n",
       "        vertical-align: middle;\n",
       "    }\n",
       "\n",
       "    .dataframe tbody tr th {\n",
       "        vertical-align: top;\n",
       "    }\n",
       "\n",
       "    .dataframe thead th {\n",
       "        text-align: right;\n",
       "    }\n",
       "</style>\n",
       "<table border=\"1\" class=\"dataframe\">\n",
       "  <thead>\n",
       "    <tr style=\"text-align: right;\">\n",
       "      <th></th>\n",
       "      <th>radius_mean</th>\n",
       "      <th>concave points_mean</th>\n",
       "      <th>compactness_mean</th>\n",
       "    </tr>\n",
       "  </thead>\n",
       "  <tbody>\n",
       "    <tr>\n",
       "      <th>count</th>\n",
       "      <td>561.000000</td>\n",
       "      <td>561.000000</td>\n",
       "      <td>561.000000</td>\n",
       "    </tr>\n",
       "    <tr>\n",
       "      <th>mean</th>\n",
       "      <td>13.965988</td>\n",
       "      <td>0.047054</td>\n",
       "      <td>0.102591</td>\n",
       "    </tr>\n",
       "    <tr>\n",
       "      <th>std</th>\n",
       "      <td>3.269261</td>\n",
       "      <td>0.035730</td>\n",
       "      <td>0.050820</td>\n",
       "    </tr>\n",
       "    <tr>\n",
       "      <th>min</th>\n",
       "      <td>6.981000</td>\n",
       "      <td>0.000000</td>\n",
       "      <td>0.019380</td>\n",
       "    </tr>\n",
       "    <tr>\n",
       "      <th>25%</th>\n",
       "      <td>11.680000</td>\n",
       "      <td>0.020270</td>\n",
       "      <td>0.063760</td>\n",
       "    </tr>\n",
       "    <tr>\n",
       "      <th>50%</th>\n",
       "      <td>13.280000</td>\n",
       "      <td>0.033230</td>\n",
       "      <td>0.091820</td>\n",
       "    </tr>\n",
       "    <tr>\n",
       "      <th>75%</th>\n",
       "      <td>15.700000</td>\n",
       "      <td>0.070170</td>\n",
       "      <td>0.129600</td>\n",
       "    </tr>\n",
       "    <tr>\n",
       "      <th>max</th>\n",
       "      <td>24.630000</td>\n",
       "      <td>0.160400</td>\n",
       "      <td>0.345400</td>\n",
       "    </tr>\n",
       "  </tbody>\n",
       "</table>\n",
       "</div>"
      ],
      "text/plain": [
       "       radius_mean  concave points_mean  compactness_mean\n",
       "count   561.000000           561.000000        561.000000\n",
       "mean     13.965988             0.047054          0.102591\n",
       "std       3.269261             0.035730          0.050820\n",
       "min       6.981000             0.000000          0.019380\n",
       "25%      11.680000             0.020270          0.063760\n",
       "50%      13.280000             0.033230          0.091820\n",
       "75%      15.700000             0.070170          0.129600\n",
       "max      24.630000             0.160400          0.345400"
      ]
     },
     "execution_count": 26,
     "metadata": {},
     "output_type": "execute_result"
    }
   ],
   "source": [
    "#describe the features\n",
    "x.describe()"
   ]
  },
  {
   "cell_type": "markdown",
   "id": "9b68c80b",
   "metadata": {},
   "source": [
    "# Feature scaling"
   ]
  },
  {
   "cell_type": "code",
   "execution_count": 27,
   "id": "47e86c22",
   "metadata": {},
   "outputs": [
    {
     "data": {
      "text/plain": [
       "array([[0.62377472, 0.91708229, 0.7920373 ],\n",
       "       [0.76995864, 0.43746883, 0.18176799],\n",
       "       [0.72009746, 0.79738155, 0.4310165 ],\n",
       "       ...,\n",
       "       [0.54501671, 0.33054863, 0.25434022],\n",
       "       [0.77165845, 0.94763092, 0.79019692],\n",
       "       [0.04413848, 0.        , 0.07435127]])"
      ]
     },
     "execution_count": 27,
     "metadata": {},
     "output_type": "execute_result"
    }
   ],
   "source": [
    "#minmax scaling\n",
    "x_scale=minmax_scale(x)\n",
    "x_scale"
   ]
  },
  {
   "cell_type": "code",
   "execution_count": 28,
   "id": "832794fb",
   "metadata": {},
   "outputs": [
    {
     "data": {
      "text/plain": [
       "(0.0, 0.9999999999999998)"
      ]
     },
     "execution_count": 28,
     "metadata": {},
     "output_type": "execute_result"
    }
   ],
   "source": [
    "# check lower limit and upper limit of scaled data\n",
    "np.min(x_scale[:,0]),np.max(x_scale[:,0])"
   ]
  },
  {
   "cell_type": "code",
   "execution_count": 29,
   "id": "f6dd7a78",
   "metadata": {},
   "outputs": [
    {
     "data": {
      "text/plain": [
       "((420, 3), (141, 3))"
      ]
     },
     "execution_count": 29,
     "metadata": {},
     "output_type": "execute_result"
    }
   ],
   "source": [
    "# split data in train and test\n",
    "x_train,x_test,y_train,y_test=train_test_split(x_scale,y,test_size=0.25,random_state=10)\n",
    "x_train.shape,x_test.shape"
   ]
  },
  {
   "cell_type": "markdown",
   "id": "30f8b7ae",
   "metadata": {},
   "source": [
    "# Dummy classifier"
   ]
  },
  {
   "cell_type": "code",
   "execution_count": 30,
   "id": "7a69ac53",
   "metadata": {},
   "outputs": [
    {
     "name": "stdout",
     "output_type": "stream",
     "text": [
      "['M' 'M' 'M' 'M' 'M' 'M' 'M' 'M' 'M' 'M' 'M' 'M' 'M' 'M' 'M' 'M' 'M' 'M'\n",
      " 'M' 'M' 'M' 'M' 'M' 'M' 'M' 'M' 'M' 'M' 'M' 'M' 'M' 'M' 'M' 'M' 'M' 'M'\n",
      " 'M' 'M' 'M' 'M' 'M' 'M' 'M' 'M' 'M' 'M' 'M' 'M' 'M' 'M' 'M' 'M' 'M' 'M'\n",
      " 'M' 'M' 'M' 'M' 'M' 'M' 'M' 'M' 'M' 'M' 'M' 'M' 'M' 'M' 'M' 'M' 'M' 'M'\n",
      " 'M' 'M' 'M' 'M' 'M' 'M' 'M' 'M' 'M' 'M' 'M' 'M' 'M' 'M' 'M' 'M' 'M' 'M'\n",
      " 'M' 'M' 'M' 'M' 'M' 'M' 'M' 'M' 'M' 'M' 'M' 'M' 'M' 'M' 'M' 'M' 'M' 'M'\n",
      " 'M' 'M' 'M' 'M' 'M' 'M' 'M' 'M' 'M' 'M' 'M' 'M' 'M' 'M' 'M' 'M' 'M' 'M'\n",
      " 'M' 'M' 'M' 'M' 'M' 'M' 'M' 'M' 'M' 'M' 'M' 'M' 'M' 'M' 'M']\n",
      "score of dummy classifier:  0.3829787234042553\n"
     ]
    }
   ],
   "source": [
    "#create dummy classifier for refrance\n",
    "dummy_clf=DummyClassifier(strategy='constant',constant='M')\n",
    "dummy_clf.fit(x_train,y_train)\n",
    "y_predict=dummy_clf.predict(x_test)\n",
    "print(y_predict)\n",
    "print('score of dummy classifier: ', dummy_clf.score(x_test,y_test))"
   ]
  },
  {
   "cell_type": "code",
   "execution_count": 31,
   "id": "a30d2df9",
   "metadata": {},
   "outputs": [
    {
     "data": {
      "text/plain": [
       "array([[ 0, 87],\n",
       "       [ 0, 54]], dtype=int64)"
      ]
     },
     "execution_count": 31,
     "metadata": {},
     "output_type": "execute_result"
    }
   ],
   "source": [
    "#ploting confussion matrix of dummy classifier\n",
    "confusion_matrix(y_test,y_predict)"
   ]
  },
  {
   "cell_type": "code",
   "execution_count": 32,
   "id": "c4d41f8b",
   "metadata": {},
   "outputs": [
    {
     "data": {
      "text/plain": [
       "(array([0., 1.]), array([0., 1.]), array([2., 1.]))"
      ]
     },
     "execution_count": 32,
     "metadata": {},
     "output_type": "execute_result"
    }
   ],
   "source": [
    "# roc parameters for dummy classifier\n",
    "dummy_prob=dummy_clf.predict_proba(x_test)\n",
    "dummy_fpr,dummy_tpr,dummy_threshold=roc_curve(y_test,dummy_prob[:,1],pos_label='M')\n",
    "dummy_fpr,dummy_tpr,dummy_threshold"
   ]
  },
  {
   "cell_type": "code",
   "execution_count": 33,
   "id": "94c29d8a",
   "metadata": {},
   "outputs": [
    {
     "name": "stdout",
     "output_type": "stream",
     "text": [
      "auc : 0.5\n"
     ]
    }
   ],
   "source": [
    "#Auc score\n",
    "print('auc :',auc(dummy_fpr,dummy_tpr))"
   ]
  },
  {
   "cell_type": "markdown",
   "id": "d0a4d74e",
   "metadata": {},
   "source": [
    "# KNN"
   ]
  },
  {
   "cell_type": "markdown",
   "id": "2140d3da",
   "metadata": {},
   "source": [
    "## Hyper Parameter Tuning"
   ]
  },
  {
   "cell_type": "code",
   "execution_count": 34,
   "id": "5707e61f",
   "metadata": {},
   "outputs": [],
   "source": [
    "parameters={'n_neighbors':[1,3,5,7,9],'p':[1,2],'weights':['uniform','distance']}\n",
    "clf=KNeighborsClassifier()"
   ]
  },
  {
   "cell_type": "code",
   "execution_count": 35,
   "id": "b1dfc60b",
   "metadata": {},
   "outputs": [
    {
     "data": {
      "text/plain": [
       "0.9142857142857143"
      ]
     },
     "execution_count": 35,
     "metadata": {},
     "output_type": "execute_result"
    }
   ],
   "source": [
    "#appling Gridsearch cv to find the best hyper parameters\n",
    "grid_clf=GridSearchCV(estimator=KNeighborsClassifier(),\n",
    "            param_grid=parameters,\n",
    "            cv=4,return_train_score=True)\n",
    "grid_clf.fit(x_train,y_train) #model fiting\n",
    "grid_clf.score(x_train,y_train) #train score"
   ]
  },
  {
   "cell_type": "code",
   "execution_count": 36,
   "id": "6e9ce2c4",
   "metadata": {},
   "outputs": [
    {
     "data": {
      "text/plain": [
       "dict_keys(['mean_fit_time', 'std_fit_time', 'mean_score_time', 'std_score_time', 'param_n_neighbors', 'param_p', 'param_weights', 'params', 'split0_test_score', 'split1_test_score', 'split2_test_score', 'split3_test_score', 'mean_test_score', 'std_test_score', 'rank_test_score', 'split0_train_score', 'split1_train_score', 'split2_train_score', 'split3_train_score', 'mean_train_score', 'std_train_score'])"
      ]
     },
     "execution_count": 36,
     "metadata": {},
     "output_type": "execute_result"
    }
   ],
   "source": [
    "results=grid_clf.cv_results_\n",
    "results.keys()"
   ]
  },
  {
   "cell_type": "code",
   "execution_count": 37,
   "id": "6d586243",
   "metadata": {},
   "outputs": [
    {
     "data": {
      "text/plain": [
       "[{'n_neighbors': 1, 'p': 1, 'weights': 'uniform'},\n",
       " {'n_neighbors': 1, 'p': 1, 'weights': 'distance'},\n",
       " {'n_neighbors': 1, 'p': 2, 'weights': 'uniform'},\n",
       " {'n_neighbors': 1, 'p': 2, 'weights': 'distance'},\n",
       " {'n_neighbors': 3, 'p': 1, 'weights': 'uniform'},\n",
       " {'n_neighbors': 3, 'p': 1, 'weights': 'distance'},\n",
       " {'n_neighbors': 3, 'p': 2, 'weights': 'uniform'},\n",
       " {'n_neighbors': 3, 'p': 2, 'weights': 'distance'},\n",
       " {'n_neighbors': 5, 'p': 1, 'weights': 'uniform'},\n",
       " {'n_neighbors': 5, 'p': 1, 'weights': 'distance'},\n",
       " {'n_neighbors': 5, 'p': 2, 'weights': 'uniform'},\n",
       " {'n_neighbors': 5, 'p': 2, 'weights': 'distance'},\n",
       " {'n_neighbors': 7, 'p': 1, 'weights': 'uniform'},\n",
       " {'n_neighbors': 7, 'p': 1, 'weights': 'distance'},\n",
       " {'n_neighbors': 7, 'p': 2, 'weights': 'uniform'},\n",
       " {'n_neighbors': 7, 'p': 2, 'weights': 'distance'},\n",
       " {'n_neighbors': 9, 'p': 1, 'weights': 'uniform'},\n",
       " {'n_neighbors': 9, 'p': 1, 'weights': 'distance'},\n",
       " {'n_neighbors': 9, 'p': 2, 'weights': 'uniform'},\n",
       " {'n_neighbors': 9, 'p': 2, 'weights': 'distance'}]"
      ]
     },
     "execution_count": 37,
     "metadata": {},
     "output_type": "execute_result"
    }
   ],
   "source": [
    "results['params']"
   ]
  },
  {
   "cell_type": "code",
   "execution_count": 38,
   "id": "d16b51eb",
   "metadata": {},
   "outputs": [
    {
     "data": {
      "text/plain": [
       "20"
      ]
     },
     "execution_count": 38,
     "metadata": {},
     "output_type": "execute_result"
    }
   ],
   "source": [
    "len(results['params'])"
   ]
  },
  {
   "cell_type": "code",
   "execution_count": 39,
   "id": "41a90562",
   "metadata": {},
   "outputs": [
    {
     "data": {
      "text/plain": [
       "{'n_neighbors': 7, 'p': 2, 'weights': 'uniform'}"
      ]
     },
     "execution_count": 39,
     "metadata": {},
     "output_type": "execute_result"
    }
   ],
   "source": [
    "#get best parameter\n",
    "grid_clf.best_params_"
   ]
  },
  {
   "cell_type": "markdown",
   "id": "5595e8db",
   "metadata": {},
   "source": [
    "## Model bulding"
   ]
  },
  {
   "cell_type": "code",
   "execution_count": 40,
   "id": "90b9090e",
   "metadata": {},
   "outputs": [
    {
     "data": {
      "text/plain": [
       "0.9290780141843972"
      ]
     },
     "execution_count": 40,
     "metadata": {},
     "output_type": "execute_result"
    }
   ],
   "source": [
    "#model using KNN\n",
    "knn_clf=KNeighborsClassifier(n_neighbors=5,p=2,weights='distance')\n",
    "knn_clf.fit(x_train,y_train)\n",
    "knn_clf.score(x_test,y_test)"
   ]
  },
  {
   "cell_type": "code",
   "execution_count": 41,
   "id": "b7f6b539",
   "metadata": {},
   "outputs": [],
   "source": [
    "#prediction\n",
    "y_predict=knn_clf.predict(x_test)"
   ]
  },
  {
   "cell_type": "code",
   "execution_count": 43,
   "id": "0d7c1f8a",
   "metadata": {},
   "outputs": [
    {
     "data": {
      "text/plain": [
       "array([[84,  3],\n",
       "       [ 7, 47]], dtype=int64)"
      ]
     },
     "execution_count": 43,
     "metadata": {},
     "output_type": "execute_result"
    }
   ],
   "source": [
    "# confusion matrix\n",
    "cm1=confusion_matrix(y_test,y_predict)\n",
    "cm1"
   ]
  },
  {
   "cell_type": "code",
   "execution_count": 44,
   "id": "87ae153b",
   "metadata": {},
   "outputs": [
    {
     "data": {
      "image/png": "[encoded data removed]",
      "text/plain": [
       "<Figure size 432x288 with 2 Axes>"
      ]
     },
     "metadata": {
      "needs_background": "light"
     },
     "output_type": "display_data"
    }
   ],
   "source": [
    "disp=ConfusionMatrixDisplay(confusion_matrix=cm1,display_labels=knn_clf.classes_)\n",
    "disp.plot();"
   ]
  },
  {
   "cell_type": "markdown",
   "id": "20d13cb9",
   "metadata": {},
   "source": [
    "## Model evalution"
   ]
  },
  {
   "cell_type": "markdown",
   "id": "782bd435",
   "metadata": {},
   "source": [
    "### Manual calculations"
   ]
  },
  {
   "cell_type": "code",
   "execution_count": 45,
   "id": "fb165a84",
   "metadata": {},
   "outputs": [
    {
     "data": {
      "text/plain": [
       "0.9230769230769231"
      ]
     },
     "execution_count": 45,
     "metadata": {},
     "output_type": "execute_result"
    }
   ],
   "source": [
    "accuracy=(86+46)/(86+5+6+46)\n",
    "accuracy"
   ]
  },
  {
   "cell_type": "code",
   "execution_count": 46,
   "id": "72e5c672",
   "metadata": {},
   "outputs": [
    {
     "data": {
      "text/plain": [
       "0.9148351648351648"
      ]
     },
     "execution_count": 46,
     "metadata": {},
     "output_type": "execute_result"
    }
   ],
   "source": [
    "balanced_accuracy=(86/91+46/52)/2\n",
    "balanced_accuracy"
   ]
  },
  {
   "cell_type": "code",
   "execution_count": 47,
   "id": "a1c2d841",
   "metadata": {},
   "outputs": [
    {
     "data": {
      "text/plain": [
       "0.9347826086956522"
      ]
     },
     "execution_count": 47,
     "metadata": {},
     "output_type": "execute_result"
    }
   ],
   "source": [
    "precision=86/(86+6)\n",
    "precision"
   ]
  },
  {
   "cell_type": "code",
   "execution_count": 48,
   "id": "241a5914",
   "metadata": {},
   "outputs": [
    {
     "data": {
      "text/plain": [
       "0.945054945054945"
      ]
     },
     "execution_count": 48,
     "metadata": {},
     "output_type": "execute_result"
    }
   ],
   "source": [
    "recall=86/(86+5)\n",
    "recall"
   ]
  },
  {
   "cell_type": "code",
   "execution_count": 49,
   "id": "3fbdaab4",
   "metadata": {},
   "outputs": [
    {
     "data": {
      "text/plain": [
       "0.9398907103825138"
      ]
     },
     "execution_count": 49,
     "metadata": {},
     "output_type": "execute_result"
    }
   ],
   "source": [
    "f_score=2*precision*recall/(precision+recall)\n",
    "f_score"
   ]
  },
  {
   "cell_type": "markdown",
   "id": "2703d70b",
   "metadata": {},
   "source": [
    "### Direct calculations"
   ]
  },
  {
   "cell_type": "code",
   "execution_count": 50,
   "id": "c8d044fa",
   "metadata": {},
   "outputs": [
    {
     "name": "stdout",
     "output_type": "stream",
     "text": [
      "acurracy score : 0.9290780141843972\n",
      "balanced accuracy score : 0.9179438058748404\n",
      "precision score : 0.9230769230769231\n",
      "recall score : 0.9655172413793104\n",
      "f1 score : 0.9438202247191013\n",
      "kappa score : 0.8477979274611399\n"
     ]
    }
   ],
   "source": [
    "# Performance matrix\n",
    "print('acurracy score :',accuracy_score(y_test,y_predict))\n",
    "print('balanced accuracy score :',balanced_accuracy_score(y_test,y_predict))\n",
    "print('precision score :',precision_score(y_test,y_predict,pos_label='B'),)\n",
    "print('recall score :',recall_score(y_test,y_predict,pos_label='B'))\n",
    "print('f1 score :',f1_score(y_test,y_predict,pos_label='B'))\n",
    "print('kappa score :',cohen_kappa_score(y_test,y_predict))"
   ]
  },
  {
   "cell_type": "code",
   "execution_count": 51,
   "id": "9d769b7f",
   "metadata": {},
   "outputs": [
    {
     "data": {
      "text/plain": [
       "(array([0.        , 0.        , 0.        , 0.01149425, 0.01149425,\n",
       "        0.03448276, 0.03448276, 0.05747126, 0.05747126, 0.06896552,\n",
       "        0.06896552, 0.14942529, 0.14942529, 0.1954023 , 1.        ]),\n",
       " array([0.        , 0.64814815, 0.75925926, 0.75925926, 0.77777778,\n",
       "        0.77777778, 0.88888889, 0.88888889, 0.94444444, 0.94444444,\n",
       "        0.96296296, 0.96296296, 1.        , 1.        , 1.        ]),\n",
       " array([2.        , 1.        , 0.83477889, 0.82782475, 0.8188309 ,\n",
       "        0.80457028, 0.46820189, 0.444018  , 0.3475031 , 0.34300891,\n",
       "        0.31234145, 0.18780731, 0.1617029 , 0.11278915, 0.        ]))"
      ]
     },
     "execution_count": 51,
     "metadata": {},
     "output_type": "execute_result"
    }
   ],
   "source": [
    "# roc parameters for knn\n",
    "knn_prob=knn_clf.predict_proba(x_test)\n",
    "knn_fpr,knn_tpr,knn_threshold=roc_curve(y_test,knn_prob[:,1],pos_label='M')\n",
    "knn_fpr,knn_tpr,knn_threshold"
   ]
  },
  {
   "cell_type": "code",
   "execution_count": 52,
   "id": "4c7f5a2a",
   "metadata": {},
   "outputs": [
    {
     "name": "stdout",
     "output_type": "stream",
     "text": [
      "auc : 0.9859514687100894\n"
     ]
    }
   ],
   "source": [
    "#Auc score-KNN\n",
    "print('auc :',auc(knn_fpr,knn_tpr))"
   ]
  },
  {
   "cell_type": "markdown",
   "id": "400fbff4",
   "metadata": {},
   "source": [
    "# Decision Tree"
   ]
  },
  {
   "cell_type": "code",
   "execution_count": 53,
   "id": "e736f38b",
   "metadata": {},
   "outputs": [
    {
     "data": {
      "text/plain": [
       "0.9219858156028369"
      ]
     },
     "execution_count": 53,
     "metadata": {},
     "output_type": "execute_result"
    }
   ],
   "source": [
    "#Decision tree\n",
    "dt_clf=DecisionTreeClassifier(criterion='entropy',max_depth=5)\n",
    "dt_clf.fit(x_train,y_train)\n",
    "dt_clf.score(x_test,y_test)"
   ]
  },
  {
   "cell_type": "code",
   "execution_count": 54,
   "id": "43af241b",
   "metadata": {},
   "outputs": [],
   "source": [
    "#prediction of test sampals\n",
    "y_predict=dt_clf.predict(x_test)"
   ]
  },
  {
   "cell_type": "code",
   "execution_count": 55,
   "id": "a3d99f97",
   "metadata": {},
   "outputs": [
    {
     "data": {
      "text/plain": [
       "array([[82,  5],\n",
       "       [ 6, 48]], dtype=int64)"
      ]
     },
     "execution_count": 55,
     "metadata": {},
     "output_type": "execute_result"
    }
   ],
   "source": [
    "cm2=confusion_matrix(y_test,y_predict)\n",
    "cm2"
   ]
  },
  {
   "cell_type": "code",
   "execution_count": 56,
   "id": "801f14b3",
   "metadata": {},
   "outputs": [
    {
     "data": {
      "image/png": "[encoded data removed]",
      "text/plain": [
       "<Figure size 432x288 with 2 Axes>"
      ]
     },
     "metadata": {
      "needs_background": "light"
     },
     "output_type": "display_data"
    }
   ],
   "source": [
    "disp=ConfusionMatrixDisplay(confusion_matrix=cm2,display_labels=dt_clf.classes_)\n",
    "disp.plot();"
   ]
  },
  {
   "cell_type": "markdown",
   "id": "5b35c198",
   "metadata": {},
   "source": [
    "## Model evalution"
   ]
  },
  {
   "cell_type": "markdown",
   "id": "0bf6ace1",
   "metadata": {},
   "source": [
    "### Direct Calculation "
   ]
  },
  {
   "cell_type": "code",
   "execution_count": 57,
   "id": "f9e49fe5",
   "metadata": {},
   "outputs": [
    {
     "name": "stdout",
     "output_type": "stream",
     "text": [
      "acurracy score : 0.9219858156028369\n",
      "balanced accuracy score : 0.9157088122605364\n",
      "precision score : 0.9056603773584906\n",
      "recall score : 0.8888888888888888\n",
      "f1 score : 0.897196261682243\n",
      "kappa score : 0.8343479653957064\n"
     ]
    }
   ],
   "source": [
    "# Performance matrix\n",
    "print('acurracy score :',accuracy_score(y_test,y_predict))\n",
    "print('balanced accuracy score :',balanced_accuracy_score(y_test,y_predict))\n",
    "print('precision score :',precision_score(y_test,y_predict,pos_label='M'),)\n",
    "print('recall score :',recall_score(y_test,y_predict,pos_label='M'))\n",
    "print('f1 score :',f1_score(y_test,y_predict,pos_label='M'))\n",
    "print('kappa score :',cohen_kappa_score(y_test,y_predict))"
   ]
  },
  {
   "cell_type": "code",
   "execution_count": 58,
   "id": "6771dda4",
   "metadata": {},
   "outputs": [
    {
     "data": {
      "text/plain": [
       "(array([0.        , 0.02298851, 0.05747126, 0.05747126, 0.06896552,\n",
       "        0.09195402, 0.43678161, 1.        ]),\n",
       " array([0.        , 0.74074074, 0.88888889, 0.90740741, 0.90740741,\n",
       "        0.90740741, 0.90740741, 1.        ]),\n",
       " array([2.        , 1.        , 0.53333333, 0.5       , 0.33333333,\n",
       "        0.28571429, 0.01818182, 0.        ]))"
      ]
     },
     "execution_count": 58,
     "metadata": {},
     "output_type": "execute_result"
    }
   ],
   "source": [
    "# Roc parameters for Decision Tree\n",
    "dt_prob=dt_clf.predict_proba(x_test)\n",
    "dt_fpr,dt_tpr,dt_threshold=roc_curve(y_test,dt_prob[:,1],pos_label='M')\n",
    "dt_fpr,dt_tpr,dt_threshold"
   ]
  },
  {
   "cell_type": "code",
   "execution_count": 59,
   "id": "462d58f8",
   "metadata": {},
   "outputs": [
    {
     "name": "stdout",
     "output_type": "stream",
     "text": [
      "auc : 0.9179438058748404\n"
     ]
    }
   ],
   "source": [
    "#auc score -Decision Tree\n",
    "print('auc :',auc(dt_fpr,dt_tpr))"
   ]
  },
  {
   "cell_type": "markdown",
   "id": "203850c4",
   "metadata": {},
   "source": [
    "# Random Forest Classifier"
   ]
  },
  {
   "cell_type": "markdown",
   "id": "5442424c",
   "metadata": {},
   "source": [
    "## Model Bulding"
   ]
  },
  {
   "cell_type": "code",
   "execution_count": 60,
   "id": "d0d2d020",
   "metadata": {},
   "outputs": [
    {
     "data": {
      "text/plain": [
       "(0.9976190476190476, 0.9290780141843972)"
      ]
     },
     "execution_count": 60,
     "metadata": {},
     "output_type": "execute_result"
    }
   ],
   "source": [
    "# Applaing Random forest classifier\n",
    "rf_clf=RandomForestClassifier(n_estimators=10,criterion='entropy')\n",
    "rf_clf.fit(x_train,y_train)\n",
    "rf_clf.score(x_train,y_train),rf_clf.score(x_test,y_test)"
   ]
  },
  {
   "cell_type": "code",
   "execution_count": 61,
   "id": "37b84688",
   "metadata": {},
   "outputs": [],
   "source": [
    "#predictions -Random Forest\n",
    "y_predict=rf_clf.predict(x_test)"
   ]
  },
  {
   "cell_type": "markdown",
   "id": "57727b2e",
   "metadata": {},
   "source": [
    "## Model evalution"
   ]
  },
  {
   "cell_type": "markdown",
   "id": "0ad979cf",
   "metadata": {},
   "source": [
    "### Direct calculation"
   ]
  },
  {
   "cell_type": "code",
   "execution_count": 62,
   "id": "24a424ed",
   "metadata": {},
   "outputs": [
    {
     "name": "stdout",
     "output_type": "stream",
     "text": [
      "acurracy score : 0.9290780141843972\n",
      "balanced accuracy score : 0.9179438058748404\n",
      "precision score : 0.94\n",
      "recall score : 0.8703703703703703\n",
      "f1 score : 0.9038461538461539\n",
      "kappa score : 0.8477979274611399\n"
     ]
    }
   ],
   "source": [
    "# performance matrix\n",
    "print('acurracy score :',accuracy_score(y_test,y_predict))\n",
    "print('balanced accuracy score :',balanced_accuracy_score(y_test,y_predict))\n",
    "print('precision score :',precision_score(y_test,y_predict,pos_label='M'),)\n",
    "print('recall score :',recall_score(y_test,y_predict,pos_label='M'))\n",
    "print('f1 score :',f1_score(y_test,y_predict,pos_label='M'))\n",
    "print('kappa score :',cohen_kappa_score(y_test,y_predict))"
   ]
  },
  {
   "cell_type": "code",
   "execution_count": 63,
   "id": "c8ab9b3f",
   "metadata": {},
   "outputs": [],
   "source": [
    "cm3=confusion_matrix(y_test,y_predict)"
   ]
  },
  {
   "cell_type": "code",
   "execution_count": 64,
   "id": "d60e299e",
   "metadata": {},
   "outputs": [
    {
     "data": {
      "image/png": "[encoded data removed]",
      "text/plain": [
       "<Figure size 432x288 with 2 Axes>"
      ]
     },
     "metadata": {
      "needs_background": "light"
     },
     "output_type": "display_data"
    }
   ],
   "source": [
    "# plot confussion matrix\n",
    "disp=ConfusionMatrixDisplay(confusion_matrix=cm3,display_labels=rf_clf.classes_)\n",
    "disp.plot();"
   ]
  },
  {
   "cell_type": "code",
   "execution_count": 65,
   "id": "aa1ac443",
   "metadata": {},
   "outputs": [
    {
     "data": {
      "text/plain": [
       "(array([0.        , 0.01149425, 0.02298851, 0.02298851, 0.03448276,\n",
       "        0.03448276, 0.12643678, 0.14942529, 0.25287356, 1.        ]),\n",
       " array([0.        , 0.53703704, 0.7037037 , 0.74074074, 0.85185185,\n",
       "        0.88888889, 0.96296296, 0.96296296, 0.96296296, 1.        ]),\n",
       " array([2. , 1. , 0.9, 0.8, 0.7, 0.5, 0.3, 0.2, 0.1, 0. ]))"
      ]
     },
     "execution_count": 65,
     "metadata": {},
     "output_type": "execute_result"
    }
   ],
   "source": [
    "# Roc parameters -Random forest classifier\n",
    "rf_prob=rf_clf.predict_proba(x_test)\n",
    "rf_fpr,rf_tpr,rf_threshold=roc_curve(y_test,rf_prob[:,1],pos_label='M')\n",
    "rf_fpr,rf_tpr,rf_threshold"
   ]
  },
  {
   "cell_type": "code",
   "execution_count": 66,
   "id": "fd107d13",
   "metadata": {},
   "outputs": [
    {
     "name": "stdout",
     "output_type": "stream",
     "text": [
      "auc : 0.959557258407833\n"
     ]
    }
   ],
   "source": [
    "# Auc score -Decision Tree\n",
    "print('auc :',auc(rf_fpr,rf_tpr))"
   ]
  },
  {
   "cell_type": "markdown",
   "id": "de31772a",
   "metadata": {},
   "source": [
    "# Cross validation"
   ]
  },
  {
   "cell_type": "code",
   "execution_count": 70,
   "id": "8a111272",
   "metadata": {},
   "outputs": [
    {
     "name": "stdout",
     "output_type": "stream",
     "text": [
      "dicision tree score : 0.8840707964601769\n",
      "knn score : 0.8983565107458912\n",
      "random forest score: 0.8930151706700379\n"
     ]
    }
   ],
   "source": [
    "#cross validate the classifier and finding it's performance\n",
    "dt_clf=DecisionTreeClassifier(criterion='entropy')\n",
    "knn_clf=KNeighborsClassifier(n_neighbors=7,p=1,weights='uniform')\n",
    "dt_score=[]\n",
    "knn_score=[]\n",
    "rf_score=[]\n",
    "kf=KFold(n_splits=5,shuffle=True,random_state=10)\n",
    "for train_index,test_index in kf.split(x,y):\n",
    "    x_train=x.iloc[train_index]\n",
    "    x_test=x.iloc[test_index]\n",
    "    y_train=y.iloc[train_index]\n",
    "    y_test=y.iloc[test_index]\n",
    "    \n",
    "    dt_clf.fit(x_train,y_train) #decision tree\n",
    "    knn_clf.fit(x_train,y_train) #KNN classifier\n",
    "    rf_clf.fit(x_train,y_train) #Random Forest Classifier\n",
    "    dt_score.append(dt_clf.score(x_test,y_test))\n",
    "    knn_score.append(knn_clf.score(x_test,y_test))\n",
    "    rf_score.append(rf_clf.score(x_test,y_test))\n",
    "print('dicision tree score :',np.mean(np.array(dt_score)))\n",
    "print('knn score :',np.mean(np.array(knn_score)))\n",
    "print('random forest score:',np.mean(np.array(rf_score)))"
   ]
  },
  {
   "cell_type": "markdown",
   "id": "e936bfdf",
   "metadata": {},
   "source": [
    "# Results comparision"
   ]
  },
  {
   "cell_type": "code",
   "execution_count": 71,
   "id": "e1341d03",
   "metadata": {},
   "outputs": [
    {
     "data": {
      "image/png": "[encoded data removed]",
      "text/plain": [
       "<Figure size 432x288 with 1 Axes>"
      ]
     },
     "metadata": {
      "needs_background": "light"
     },
     "output_type": "display_data"
    }
   ],
   "source": [
    "plt.plot(knn_fpr,knn_tpr,c='orange',label='KNN Classifier')\n",
    "plt.plot(dt_fpr,dt_tpr,c='green',label='DEcission Tree Clasifier')\n",
    "plt.plot(rf_fpr,rf_tpr,label='Random Forest Classifier')\n",
    "plt.plot(dummy_fpr,dummy_tpr,c='r',ls='--',label='Dummy Classifier')\n",
    "plt.legend()\n",
    "plt.xlabel('FPR (false positivity rate)')\n",
    "plt.ylabel('TPR (true positivity rate)')\n",
    "plt.title('AUC curves of different models',c='b',size=20)\n",
    "plt.show()"
   ]
  },
  {
   "cell_type": "markdown",
   "id": "6912daf5",
   "metadata": {},
   "source": [
    "here,we observed that the area under the curve is large for KNN i,e 0.9859 so from above results we can canclude that KNN is the best classifier for this cancer detection. "
   ]
  },
  {
   "cell_type": "code",
   "execution_count": null,
   "id": "95fcf83b",
   "metadata": {},
   "outputs": [],
   "source": []
  }
 ],
 "metadata": {
  "kernelspec": {
   "display_name": "Python 3 (ipykernel)",
   "language": "python",
   "name": "python3"
  },
  "language_info": {
   "codemirror_mode": {
    "name": "ipython",
    "version": 3
   },
   "file_extension": ".py",
   "mimetype": "text/x-python",
   "name": "python",
   "nbconvert_exporter": "python",
   "pygments_lexer": "ipython3",
   "version": "3.9.12"
  }
 },
 "nbformat": 4,
 "nbformat_minor": 5
}
